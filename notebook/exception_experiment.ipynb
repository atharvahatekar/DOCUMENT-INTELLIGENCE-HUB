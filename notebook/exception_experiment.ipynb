{
 "cells": [
  {
   "cell_type": "code",
   "execution_count": 9,
   "id": "48ce73d3",
   "metadata": {},
   "outputs": [],
   "source": [
    "import sys\n",
    "import traceback\n",
    "from logger.custom_logger import CustomLogger"
   ]
  },
  {
   "cell_type": "code",
   "execution_count": 10,
   "id": "0769422c",
   "metadata": {},
   "outputs": [],
   "source": [
    "logger=CustomLogger().get_logger(\"exception_experiment\")"
   ]
  },
  {
   "cell_type": "code",
   "execution_count": 12,
   "id": "07d6353f",
   "metadata": {},
   "outputs": [
    {
     "ename": "DocumentPortalException",
     "evalue": "\n        Error in: C:\\Users\\athhatek\\AppData\\Local\\Temp\\ipykernel_2416\\1232875099.py\n        at line: 21\n        Message: division by zero\n        Traceback: Traceback (most recent call last):\n  File \"C:\\Users\\athhatek\\AppData\\Local\\Temp\\ipykernel_2416\\1232875099.py\", line 21, in <module>\n    a = 1 / 0\nZeroDivisionError: division by zero\n\n        ",
     "output_type": "error",
     "traceback": [
      "\u001b[1;31m---------------------------------------------------------------------------\u001b[0m",
      "\u001b[1;31mZeroDivisionError\u001b[0m                         Traceback (most recent call last)",
      "Cell \u001b[1;32mIn[12], line 21\u001b[0m\n\u001b[0;32m     19\u001b[0m \u001b[38;5;28;01mtry\u001b[39;00m:\n\u001b[0;32m     20\u001b[0m     \u001b[38;5;66;03m# Simulating an error\u001b[39;00m\n\u001b[1;32m---> 21\u001b[0m     a \u001b[38;5;241m=\u001b[39m \u001b[38;5;241;43m1\u001b[39;49m\u001b[43m \u001b[49m\u001b[38;5;241;43m/\u001b[39;49m\u001b[43m \u001b[49m\u001b[38;5;241;43m0\u001b[39;49m \n\u001b[0;32m     22\u001b[0m     \u001b[38;5;28mprint\u001b[39m(a)\n",
      "\u001b[1;31mZeroDivisionError\u001b[0m: division by zero",
      "\nDuring handling of the above exception, another exception occurred:\n",
      "\u001b[1;31mDocumentPortalException\u001b[0m                   Traceback (most recent call last)",
      "Cell \u001b[1;32mIn[12], line 26\u001b[0m\n\u001b[0;32m     24\u001b[0m app_exception \u001b[38;5;241m=\u001b[39m DocumentPortalException(e, sys)\n\u001b[0;32m     25\u001b[0m logger\u001b[38;5;241m.\u001b[39merror(app_exception)\n\u001b[1;32m---> 26\u001b[0m \u001b[38;5;28;01mraise\u001b[39;00m app_exception\n",
      "\u001b[1;31mDocumentPortalException\u001b[0m: \n        Error in: C:\\Users\\athhatek\\AppData\\Local\\Temp\\ipykernel_2416\\1232875099.py\n        at line: 21\n        Message: division by zero\n        Traceback: Traceback (most recent call last):\n  File \"C:\\Users\\athhatek\\AppData\\Local\\Temp\\ipykernel_2416\\1232875099.py\", line 21, in <module>\n    a = 1 / 0\nZeroDivisionError: division by zero\n\n        "
     ]
    }
   ],
   "source": [
    "\n",
    "class DocumentPortalException(Exception):\n",
    "    \"\"\"Document exceptio for document portal.\"\"\"\n",
    "    def __init__(self, error_message:str, error_details:sys):\n",
    "        _,_,exe_tb = error_details.exc_info()\n",
    "        self.file_name = exe_tb.tb_frame.f_code.co_filename\n",
    "        self.line_number = exe_tb.tb_lineno\n",
    "        self.error_message = str(error_message)\n",
    "        self.traceback_str = ''.join(traceback.format_exception(*error_details.exc_info()))\n",
    "\n",
    "    def __str__(self):\n",
    "        return f\"\"\"\n",
    "        Error in: {self.file_name}\n",
    "        at line: {self.line_number}\n",
    "        Message: {self.error_message}\n",
    "        Traceback: {self.traceback_str}\n",
    "        \"\"\"\n",
    "\n",
    "if __name__ == \"__main__\":\n",
    "    try:\n",
    "        # Simulating an error\n",
    "        a = 1 / 0 \n",
    "        print(a)\n",
    "    except Exception as e:\n",
    "        app_exception = DocumentPortalException(e, sys)\n",
    "        logger.error(app_exception)\n",
    "        raise app_exception"
   ]
  },
  {
   "cell_type": "code",
   "execution_count": null,
   "id": "58199f7a",
   "metadata": {},
   "outputs": [],
   "source": []
  }
 ],
 "metadata": {
  "kernelspec": {
   "display_name": "venv",
   "language": "python",
   "name": "python3"
  },
  "language_info": {
   "codemirror_mode": {
    "name": "ipython",
    "version": 3
   },
   "file_extension": ".py",
   "mimetype": "text/x-python",
   "name": "python",
   "nbconvert_exporter": "python",
   "pygments_lexer": "ipython3",
   "version": "3.10.0"
  }
 },
 "nbformat": 4,
 "nbformat_minor": 5
}
